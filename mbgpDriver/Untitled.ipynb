{
 "cells": [
  {
   "cell_type": "code",
   "execution_count": 1,
   "metadata": {
    "collapsed": true
   },
   "outputs": [],
   "source": [
    "from runner import *"
   ]
  },
  {
   "cell_type": "code",
   "execution_count": 2,
   "metadata": {
    "collapsed": false
   },
   "outputs": [
    {
     "name": "stdout",
     "output_type": "stream",
     "text": [
      "Init Begin\n",
      "sites Loaded\n",
      "Rings Loaded\n",
      "Costs Loaded\n",
      "1.0\n",
      "Routes Loaded\n",
      "Dests are seted num Dests 16841\n"
     ]
    }
   ],
   "source": [
    "dests,routes,ascountry,country,rings,costs,sites=loadInits()\n"
   ]
  },
  {
   "cell_type": "code",
   "execution_count": 3,
   "metadata": {
    "collapsed": false
   },
   "outputs": [
    {
     "data": {
      "text/plain": [
       "[([10212, 4808, 4837, 209, 297, 270], '60'),\n",
       " ([10212, 4812, 4134, 209, 297, 270], '60'),\n",
       " ([10212, 4813, 4134, 209, 297, 270], '60'),\n",
       " ([10212, 4847, 4134, 209, 297, 270], '60'),\n",
       " ([10212, 17621, 4837, 209, 297, 270], '60'),\n",
       " ([10212, 18118, 4847, 4134, 209, 297, 270], '60')]"
      ]
     },
     "execution_count": 3,
     "metadata": {},
     "output_type": "execute_result"
    }
   ],
   "source": [
    "sources=ascountry\n",
    "excludes= rings\n",
    "routes.routes['10212']['270'].alternativepaths\n"
   ]
  },
  {
   "cell_type": "code",
   "execution_count": 13,
   "metadata": {
    "collapsed": true
   },
   "outputs": [],
   "source": [
    "import myDB\n",
    "import operator\n",
    "import matplotlib.pyplot as plt\n",
    "import random\n",
    "import game\n",
    "\n",
    "import cPickle as pickle\n",
    "import math\n",
    "import signal\n",
    "import numpy as np\n",
    "\n",
    "\n",
    "def handler(signal, frame):\n",
    "    print 'signal'\n",
    "    raise ArithmeticError()\n",
    "\n",
    "\n",
    "def compareRAD(r1, r2):\n",
    "    per1 = int(r1[1])\n",
    "    per2 = int(r2[1])\n",
    "    # LOCAL PRE\n",
    "    if per2 > per1:\n",
    "        return r2\n",
    "    elif per1 > per2:\n",
    "        return r1\n",
    "\n",
    "    # SHORTEST\n",
    "    if len(r2[0]) > len(r1[0]):\n",
    "        return r1\n",
    "    if len(r2[0]) < len(r1[0]):\n",
    "        return r2\n",
    "    if r1[0][0] < r2[0][0]:\n",
    "        return r1\n",
    "    return r2\n",
    "\n",
    "\n",
    "def select_random(dests, country, cost, properties, min_cone, excludes):\n",
    "    dec = []\n",
    "    proten = []\n",
    "    for i in dests:\n",
    "        sel = i[0]\n",
    "        if properties[str(sel)]['Country'] != country and int(\n",
    "                str(properties[str(sel)]['#AS']).replace(',', '')) >= min_cone and not excludes.has_key(str(sel)):\n",
    "            proten.append(sel)\n",
    "    np.random.shuffle(proten)\n",
    "    sel_cost = 0\n",
    "    sels = []\n",
    "    tryies = 1000\n",
    "    for i in proten:\n",
    "        i = str(i)\n",
    "        i_cost = game.deployCostFucntion (properties[i], country)\n",
    "        if i_cost + sel_cost <= cost:\n",
    "            sels.append(i)\n",
    "            sel_cost += i_cost\n",
    "        if sel_cost > cost:\n",
    "            tryies -= 1\n",
    "            if tryies < 0:\n",
    "                return sels\n",
    "    return sels\n",
    "\n",
    "\n",
    "def select_aggresive(dest, country, cost, properties, excludes):\n",
    "    i = 0\n",
    "    dec = []\n",
    "    tries = 1000\n",
    "    sel_cost = 0\n",
    "    while i < len(dest):\n",
    "        if properties[str(dest[i][0])]['Country'] != country and not excludes.has_key(str(dest[i][0])):\n",
    "            q = str(dest[i][0])\n",
    "            i_cost = game.deployCostFucntion(properties[q], country)\n",
    "            if i_cost + sel_cost <= cost:\n",
    "                dec.append(q)\n",
    "                sel_cost += i_cost\n",
    "            if sel_cost > cost:\n",
    "                tries -= 1\n",
    "                if tries < 0:\n",
    "                    return dec\n",
    "\n",
    "        i += 1\n",
    "    return dec\n",
    "\n",
    "\n",
    "def evalute_options(dests, sources, soc, properties):\n",
    "    pass\n",
    "\n",
    "\n",
    "def computeImportance(routes, sources, costs):\n",
    "    contents = {}\n",
    "    ASes = {}\n",
    "    Revs = {}\n",
    "    counts=0\n",
    "    for i in sources:\n",
    "        if not routes.has_key(i):\n",
    "            continue\n",
    "        dests = routes[i]\n",
    "        for d in dests:\n",
    "            if costs[d]['Country'] == 'US':\n",
    "                ASes.setdefault(d,{})\n",
    "\n",
    "                if len(routes[i][d].selectedpath)<1:\n",
    "                    continue\n",
    "                for ass in routes[i][d].selectedpath[0]:\n",
    "                    #print ass,routes[i][d].selectedpath\n",
    "                    ASes[d].setdefault(ass, []).append(i)\n",
    "                    Revs.setdefault(str(ass), {}).setdefault(str(d), []).append(str(i))\n",
    "                '''for route in routes[i][d].alternativepaths:\n",
    "                    for ass in route[0]:\n",
    "\n",
    "                        ASes[d].setdefault(ass, []).append(i)\n",
    "                        Revs.setdefault(str(ass), {}).setdefault(str(d), []).append(str(i))'''\n",
    "\n",
    "    print len(Revs)\n",
    "    return Revs\n",
    "\n",
    "\n",
    "def decoyGameAction(routers, sources, country, properties, budget, excludes):\n",
    "    #dec= pickle.load(open('game_2e7.pickle'))\n",
    "    #return dec\n",
    "\n",
    "    imps=computeImportance(routers,sources,properties)\n",
    "\n",
    "    print 'decoy: IMPS COMPUTED'\n",
    "    dec=game.decoyResonse(imps.keys(),country,properties,budget,excludes,imps)\n",
    "    #pickle.dump(dec, open('ress/game_naughty2_%d.pickle'%budget,'wb'))\n",
    "    print 'decoy: decoys deployed'\n",
    "    return dec\n",
    "\n",
    "\n",
    "def compute(dests, routes, ascountry, country, sources, percentage):\n",
    "    results = {}\n",
    "    sorted_dsts = dests\n",
    "    selection_method_str = 'random'\n",
    "    costs = pickle.load(open('../Datasets/AS_Cost.pickle', 'rb'))\n",
    "    soc = int(len(sorted_dsts) * float(percentage) / 100.0)\n",
    "    dec = select_random(sorted_dsts, country, soc, costs, 0)\n",
    "    results['Decoys'] = dec\n",
    "\n",
    "    rebuild = {}\n",
    "    needrebuild = {}\n",
    "\n",
    "    oks = {}\n",
    "    print dec\n",
    "    com = 0\n",
    "    print 'start for %f percent with %d seleced' % (percentage, soc)\n",
    "    lastDests = {}\n",
    "    for i in sources:\n",
    "        paths = routes.getRouteForSource(i)\n",
    "        com += 1\n",
    "        print 'computeing %d of %d' % (com, len(sources))\n",
    "        # print len(paths)\n",
    "        for k in paths:\n",
    "            if k in sources:\n",
    "                continue\n",
    "\n",
    "            if lastDests.get(k, 0) == -2:\n",
    "                # print 'escape'\n",
    "                continue\n",
    "            # print k\n",
    "            route, type = routes.computeRAD(i, k, dec, sources)\n",
    "\n",
    "            lastDests[k] = type\n",
    "\n",
    "            if type >= 0:\n",
    "                rebuild.setdefault(k, []).append(route)\n",
    "\n",
    "                oks[k] = 1\n",
    "            else:\n",
    "                needrebuild.setdefault(i, []).append(k)\n",
    "\n",
    "            # print route,type\n",
    "            results.setdefault(i, {})[k] = {'route': route, 'type': type}\n",
    "\n",
    "    # print oks\n",
    "    best_paths = {}\n",
    "\n",
    "    for k in rebuild:\n",
    "        best = rebuild[k][0]\n",
    "        for p in rebuild[k]:\n",
    "            best = compareRAD(best, p)\n",
    "        best_paths[k] = best\n",
    "\n",
    "    for i in needrebuild:\n",
    "        for k in needrebuild[i]:\n",
    "            if not rebuild.has_key(k):\n",
    "                results.setdefault(i, {})[k] = {'route': best, 'type': -1}\n",
    "\n",
    "                continue\n",
    "            best = best_paths[k]\n",
    "\n",
    "            results.setdefault(i, {})[k] = {'route': best, 'type': -2}\n",
    "\n",
    "    results['unreachable'] = float(len(oks)) / float(len(dests))\n",
    "\n",
    "    pickle.dump(results, open('../results/results-%f-%s.pickle' % (percentage, selection_method_str), 'wb'))\n",
    "    print 'done percentage %f' % percentage, float(len(oks)) / float(len(dests))\n",
    "    return\n",
    "\n",
    "\n",
    "\n",
    "def censorGameAction(routes,sources,country,costs,decoys,sites,routemanager):\n",
    "    game.computeAllReroute(sources,routemanager,decoys)\n",
    "    dic={}\n",
    "\n",
    "    for source in routes:\n",
    "        for dest in routes[source]:\n",
    "            game.gameCensorDecide(source,dest,costs,sites,routemanager)\n",
    "\n",
    "\n",
    "def analysResult(routes,costs):\n",
    "    results={'NVF':[],'Unreachable':[],'Decoy':[],'Less Preferred':[],'Not changed':[]}\n",
    "    decoyutility=0\n",
    "    censorutility=0\n",
    "\n",
    "\n",
    "    for s in routes:\n",
    "        for d in routes[s] :\n",
    "            if routes[s][d].isBGP:\n",
    "                if routes[s][d].routetype!=0:\n",
    "                    results['Decoy'].append((s,d))\n",
    "                    decoyutility+=( float(str(costs[s].get('#IP','0')).replace(',','')) )*( float(str(costs[d].get('#IP','0')).replace(',','')) )\n",
    "                else:\n",
    "                    results['Not changed'].append((s,d))\n",
    "\n",
    "            else:\n",
    "                if routes[s][d].routetype==1:\n",
    "                    results['Less Preferred'].append((s,d))\n",
    "                if routes[s][d].routetype==2:\n",
    "                    results['NVF'].append((s,d))\n",
    "                if routes[s][d].routetype==-1:\n",
    "                    results['Unreachable'].append((s,d))\n",
    "    colors=['yellowgreen','gold','lightskyblue','lightcoral','gray']\n",
    "    #print results\n",
    "    plt.ioff()\n",
    "    plt.pie([len(results[i]) for i in results],labels=[i for i in results],colors=colors,shadow=True,startangle=90,explode=(0,0,0.1,0,0),autopct='%1.1f%%')\n",
    "    plt.show()\n",
    "\n",
    "    x= {i:len(results[i]) for i in results}\n",
    "    x['decoyutility']=decoyutility\n",
    "    print x\n",
    "\n",
    "\n",
    "\n",
    "def hasDecoy(r,decoys,debug=False):\n",
    "        for i in r[0]:\n",
    "            if decoys.has_key(str(i)):\n",
    "                if debug:\n",
    "                    print i,\n",
    "                return True\n",
    "        return False\n",
    "\n",
    "\n",
    "def computeGame():\n",
    "    pass\n",
    "def computeDecoyUtility(routes,decoys,costs,debug,rm):\n",
    "    utility =0\n",
    "    for s in routes:\n",
    "        for d in routes[s] :\n",
    "            if hasDecoy( routes[s][d].selectedpath,decoys):\n",
    "                if routes[s][d].routetype==0 and debug:\n",
    "                    print routes[s][d].selectedpath ,routes[s][d].routetype , routes[s][d].isBGP,( float(str(costs[s].get('#IP','0')).replace(',','')) )*( float(str(costs[d].get('#IP','0')).replace(',','')) )\n",
    "                    hasDecoy(routes[s][d].selectedpath,decoys,True)\n",
    "                    print rm.computeRAD(s, d, decoys)\n",
    "                    print rm.hasDecoy(routes[s][d].selectedpath,decoys)\n",
    "                    print hasDecoy(routes[s][d].bestpath,decoys,True)\n",
    "\n",
    "                utility+=( float(str(costs[s].get('#IP','0')).replace(',','')) )*( float(str(costs[d].get('#IP','0')).replace(',','')) )\n",
    "    return utility\n",
    "def experiment(routes,dests, sources,country, excludes,costs,sites):\n",
    "    reload(game)\n",
    "    sources=sources['Country2ASN'][country]\n",
    "    decoy_max_costs=1\n",
    "    roundcount=0\n",
    "    decutility=[]\n",
    "    while True:\n",
    "\n",
    "        if roundcount>-1:\n",
    "            dec=decoyGameAction(routes.routes,sources,country,costs,decoy_max_costs,excludes)\n",
    "\n",
    "        roundcount+=1\n",
    "        print 'Decoy: Computed '\n",
    "        ut=computeDecoyUtility(routes.routes,dec,costs,False,routes)\n",
    "        decutility.append(ut)\n",
    "        print 'Decoy: Computed DECOY utility= ',ut\n",
    "        censorGameAction(routes.routes,sources,country,costs,dec,sites,routes)\n",
    "        ut=computeDecoyUtility(routes.routes,dec,costs,True,routes)\n",
    "        decutility.append(ut)\n",
    "        print 'Censor: Computed decoy utility= ',ut\n",
    "\n",
    "        analysResult(routes.routes,costs)"
   ]
  },
  {
   "cell_type": "code",
   "execution_count": 5,
   "metadata": {
    "collapsed": false
   },
   "outputs": [],
   "source": [
    "reload(game)\n",
    "sources=sources['Country2ASN'][country]\n",
    "decoy_max_costs=1\n",
    "roundcount=0\n",
    "decutility=[]"
   ]
  },
  {
   "cell_type": "code",
   "execution_count": 6,
   "metadata": {
    "collapsed": false
   },
   "outputs": [
    {
     "name": "stdout",
     "output_type": "stream",
     "text": [
      "332\n",
      "decoy: IMPS COMPUTED\n",
      "332 332\n",
      "Sorted\n",
      "['15576']\n",
      "decoy: decoys deployed\n"
     ]
    }
   ],
   "source": [
    "dec=decoyGameAction(routes.routes,sources,country,costs,decoy_max_costs,excludes)\n"
   ]
  },
  {
   "cell_type": "raw",
   "metadata": {},
   "source": []
  },
  {
   "cell_type": "code",
   "execution_count": 7,
   "metadata": {
    "collapsed": false
   },
   "outputs": [
    {
     "ename": "AttributeError",
     "evalue": "Route instance has no attribute 'isBGP'",
     "output_type": "error",
     "traceback": [
      "\u001b[1;31m---------------------------------------------------------------------------\u001b[0m",
      "\u001b[1;31mAttributeError\u001b[0m                            Traceback (most recent call last)",
      "\u001b[1;32m<ipython-input-7-0420a69b6954>\u001b[0m in \u001b[0;36m<module>\u001b[1;34m()\u001b[0m\n\u001b[1;32m----> 1\u001b[1;33m \u001b[0manalysResult\u001b[0m\u001b[1;33m(\u001b[0m\u001b[0mroutes\u001b[0m\u001b[1;33m.\u001b[0m\u001b[0mroutes\u001b[0m\u001b[1;33m,\u001b[0m\u001b[0mcosts\u001b[0m\u001b[1;33m)\u001b[0m\u001b[1;33m\u001b[0m\u001b[0m\n\u001b[0m",
      "\u001b[1;32m<ipython-input-4-7ff64f15f5c6>\u001b[0m in \u001b[0;36manalysResult\u001b[1;34m(routes, costs)\u001b[0m\n\u001b[0;32m    220\u001b[0m     \u001b[1;32mfor\u001b[0m \u001b[0ms\u001b[0m \u001b[1;32min\u001b[0m \u001b[0mroutes\u001b[0m\u001b[1;33m:\u001b[0m\u001b[1;33m\u001b[0m\u001b[0m\n\u001b[0;32m    221\u001b[0m         \u001b[1;32mfor\u001b[0m \u001b[0md\u001b[0m \u001b[1;32min\u001b[0m \u001b[0mroutes\u001b[0m\u001b[1;33m[\u001b[0m\u001b[0ms\u001b[0m\u001b[1;33m]\u001b[0m \u001b[1;33m:\u001b[0m\u001b[1;33m\u001b[0m\u001b[0m\n\u001b[1;32m--> 222\u001b[1;33m             \u001b[1;32mif\u001b[0m \u001b[0mroutes\u001b[0m\u001b[1;33m[\u001b[0m\u001b[0ms\u001b[0m\u001b[1;33m]\u001b[0m\u001b[1;33m[\u001b[0m\u001b[0md\u001b[0m\u001b[1;33m]\u001b[0m\u001b[1;33m.\u001b[0m\u001b[0misBGP\u001b[0m\u001b[1;33m:\u001b[0m\u001b[1;33m\u001b[0m\u001b[0m\n\u001b[0m\u001b[0;32m    223\u001b[0m                 \u001b[1;32mif\u001b[0m \u001b[0mroutes\u001b[0m\u001b[1;33m[\u001b[0m\u001b[0ms\u001b[0m\u001b[1;33m]\u001b[0m\u001b[1;33m[\u001b[0m\u001b[0md\u001b[0m\u001b[1;33m]\u001b[0m\u001b[1;33m.\u001b[0m\u001b[0mroutetype\u001b[0m\u001b[1;33m!=\u001b[0m\u001b[1;36m0\u001b[0m\u001b[1;33m:\u001b[0m\u001b[1;33m\u001b[0m\u001b[0m\n\u001b[0;32m    224\u001b[0m                     \u001b[0mresults\u001b[0m\u001b[1;33m[\u001b[0m\u001b[1;34m'Decoy'\u001b[0m\u001b[1;33m]\u001b[0m\u001b[1;33m.\u001b[0m\u001b[0mappend\u001b[0m\u001b[1;33m(\u001b[0m\u001b[1;33m(\u001b[0m\u001b[0ms\u001b[0m\u001b[1;33m,\u001b[0m\u001b[0md\u001b[0m\u001b[1;33m)\u001b[0m\u001b[1;33m)\u001b[0m\u001b[1;33m\u001b[0m\u001b[0m\n",
      "\u001b[1;31mAttributeError\u001b[0m: Route instance has no attribute 'isBGP'"
     ]
    }
   ],
   "source": []
  },
  {
   "cell_type": "code",
   "execution_count": 17,
   "metadata": {
    "collapsed": false
   },
   "outputs": [
    {
     "name": "stdout",
     "output_type": "stream",
     "text": [
      "NOTE: Enter 'c' at the \u001b[0;32mipdb> \u001b[0m prompt to continue execution.\n",
      "None\n",
      "> \u001b[1;32m<string>\u001b[0m(1)\u001b[0;36m<module>\u001b[1;34m()\u001b[0m\n",
      "\n",
      "ipdb> s\n",
      "--Call--\n",
      "> \u001b[1;32m<ipython-input-13-92334749508b>\u001b[0m(200)\u001b[0;36mcensorGameAction\u001b[1;34m()\u001b[0m\n",
      "\u001b[1;32m    198 \u001b[1;33m\u001b[1;33m\u001b[0m\u001b[0m\n",
      "\u001b[0m\u001b[1;32m    199 \u001b[1;33m\u001b[1;33m\u001b[0m\u001b[0m\n",
      "\u001b[0m\u001b[1;32m--> 200 \u001b[1;33m\u001b[1;32mdef\u001b[0m \u001b[0mcensorGameAction\u001b[0m\u001b[1;33m(\u001b[0m\u001b[0mroutes\u001b[0m\u001b[1;33m,\u001b[0m\u001b[0msources\u001b[0m\u001b[1;33m,\u001b[0m\u001b[0mcountry\u001b[0m\u001b[1;33m,\u001b[0m\u001b[0mcosts\u001b[0m\u001b[1;33m,\u001b[0m\u001b[0mdecoys\u001b[0m\u001b[1;33m,\u001b[0m\u001b[0msites\u001b[0m\u001b[1;33m,\u001b[0m\u001b[0mroutemanager\u001b[0m\u001b[1;33m)\u001b[0m\u001b[1;33m:\u001b[0m\u001b[1;33m\u001b[0m\u001b[0m\n",
      "\u001b[0m\u001b[1;32m    201 \u001b[1;33m    \u001b[0mgame\u001b[0m\u001b[1;33m.\u001b[0m\u001b[0mcomputeAllReroute\u001b[0m\u001b[1;33m(\u001b[0m\u001b[0msources\u001b[0m\u001b[1;33m,\u001b[0m\u001b[0mroutemanager\u001b[0m\u001b[1;33m,\u001b[0m\u001b[0mdecoys\u001b[0m\u001b[1;33m)\u001b[0m\u001b[1;33m\u001b[0m\u001b[0m\n",
      "\u001b[0m\u001b[1;32m    202 \u001b[1;33m    \u001b[0mdic\u001b[0m\u001b[1;33m=\u001b[0m\u001b[1;33m{\u001b[0m\u001b[1;33m}\u001b[0m\u001b[1;33m\u001b[0m\u001b[0m\n",
      "\u001b[0m\n",
      "ipdb> s\n",
      "> \u001b[1;32m<ipython-input-13-92334749508b>\u001b[0m(201)\u001b[0;36mcensorGameAction\u001b[1;34m()\u001b[0m\n",
      "\u001b[1;32m    199 \u001b[1;33m\u001b[1;33m\u001b[0m\u001b[0m\n",
      "\u001b[0m\u001b[1;32m    200 \u001b[1;33m\u001b[1;32mdef\u001b[0m \u001b[0mcensorGameAction\u001b[0m\u001b[1;33m(\u001b[0m\u001b[0mroutes\u001b[0m\u001b[1;33m,\u001b[0m\u001b[0msources\u001b[0m\u001b[1;33m,\u001b[0m\u001b[0mcountry\u001b[0m\u001b[1;33m,\u001b[0m\u001b[0mcosts\u001b[0m\u001b[1;33m,\u001b[0m\u001b[0mdecoys\u001b[0m\u001b[1;33m,\u001b[0m\u001b[0msites\u001b[0m\u001b[1;33m,\u001b[0m\u001b[0mroutemanager\u001b[0m\u001b[1;33m)\u001b[0m\u001b[1;33m:\u001b[0m\u001b[1;33m\u001b[0m\u001b[0m\n",
      "\u001b[0m\u001b[1;32m--> 201 \u001b[1;33m    \u001b[0mgame\u001b[0m\u001b[1;33m.\u001b[0m\u001b[0mcomputeAllReroute\u001b[0m\u001b[1;33m(\u001b[0m\u001b[0msources\u001b[0m\u001b[1;33m,\u001b[0m\u001b[0mroutemanager\u001b[0m\u001b[1;33m,\u001b[0m\u001b[0mdecoys\u001b[0m\u001b[1;33m)\u001b[0m\u001b[1;33m\u001b[0m\u001b[0m\n",
      "\u001b[0m\u001b[1;32m    202 \u001b[1;33m    \u001b[0mdic\u001b[0m\u001b[1;33m=\u001b[0m\u001b[1;33m{\u001b[0m\u001b[1;33m}\u001b[0m\u001b[1;33m\u001b[0m\u001b[0m\n",
      "\u001b[0m\u001b[1;32m    203 \u001b[1;33m\u001b[1;33m\u001b[0m\u001b[0m\n",
      "\u001b[0m\n",
      "ipdb> r\n",
      "Computing RAD\n",
      "Censor: RAD COMPUTED\n",
      "--Return--\n",
      "None\n",
      "> \u001b[1;32m<ipython-input-13-92334749508b>\u001b[0m(204)\u001b[0;36mcensorGameAction\u001b[1;34m()\u001b[0m\n",
      "\u001b[1;32m    202 \u001b[1;33m    \u001b[0mdic\u001b[0m\u001b[1;33m=\u001b[0m\u001b[1;33m{\u001b[0m\u001b[1;33m}\u001b[0m\u001b[1;33m\u001b[0m\u001b[0m\n",
      "\u001b[0m\u001b[1;32m    203 \u001b[1;33m\u001b[1;33m\u001b[0m\u001b[0m\n",
      "\u001b[0m\u001b[1;32m--> 204 \u001b[1;33m    \u001b[1;32mfor\u001b[0m \u001b[0msource\u001b[0m \u001b[1;32min\u001b[0m \u001b[0mroutes\u001b[0m\u001b[1;33m:\u001b[0m\u001b[1;33m\u001b[0m\u001b[0m\n",
      "\u001b[0m\u001b[1;32m    205 \u001b[1;33m        \u001b[1;32mfor\u001b[0m \u001b[0mdest\u001b[0m \u001b[1;32min\u001b[0m \u001b[0mroutes\u001b[0m\u001b[1;33m[\u001b[0m\u001b[0msource\u001b[0m\u001b[1;33m]\u001b[0m\u001b[1;33m:\u001b[0m\u001b[1;33m\u001b[0m\u001b[0m\n",
      "\u001b[0m\u001b[1;32m    206 \u001b[1;33m            \u001b[0mgame\u001b[0m\u001b[1;33m.\u001b[0m\u001b[0mgameCensorDecide\u001b[0m\u001b[1;33m(\u001b[0m\u001b[0msource\u001b[0m\u001b[1;33m,\u001b[0m\u001b[0mdest\u001b[0m\u001b[1;33m,\u001b[0m\u001b[0mcosts\u001b[0m\u001b[1;33m,\u001b[0m\u001b[0msites\u001b[0m\u001b[1;33m,\u001b[0m\u001b[0mroutemanager\u001b[0m\u001b[1;33m)\u001b[0m\u001b[1;33m\u001b[0m\u001b[0m\n",
      "\u001b[0m\n",
      "ipdb> b 206\n",
      "Breakpoint 1 at <ipython-input-13-92334749508b>:206\n",
      "ipdb> r\n",
      "--Return--\n",
      "None\n",
      "> \u001b[1;32m<string>\u001b[0m(1)\u001b[0;36m<module>\u001b[1;34m()\u001b[0m\n",
      "\n",
      "ipdb> \n"
     ]
    }
   ],
   "source": [
    "%debug censorGameAction(routes.routes,sources,country,costs,dec,sites,routes)"
   ]
  },
  {
   "cell_type": "code",
   "execution_count": 11,
   "metadata": {
    "collapsed": false
   },
   "outputs": [
    {
     "name": "stdout",
     "output_type": "stream",
     "text": [
      "{'Not changed': 276, 'Decoy': 0, 'decoyutility': 0, 'NVF': 0, 'Unreachable': 0, 'Less Preferred': 0}\n"
     ]
    }
   ],
   "source": [
    "analysResult(routes.routes,costs)"
   ]
  },
  {
   "cell_type": "code",
   "execution_count": null,
   "metadata": {
    "collapsed": true
   },
   "outputs": [],
   "source": []
  }
 ],
 "metadata": {
  "kernelspec": {
   "display_name": "Python 2",
   "language": "python",
   "name": "python2"
  },
  "language_info": {
   "codemirror_mode": {
    "name": "ipython",
    "version": 2
   },
   "file_extension": ".py",
   "mimetype": "text/x-python",
   "name": "python",
   "nbconvert_exporter": "python",
   "pygments_lexer": "ipython2",
   "version": "2.7.8"
  }
 },
 "nbformat": 4,
 "nbformat_minor": 0
}
